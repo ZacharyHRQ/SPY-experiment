{
  "nbformat": 4,
  "nbformat_minor": 0,
  "metadata": {
    "colab": {
      "name": "portfolios calculations",
      "provenance": [],
      "authorship_tag": "ABX9TyMjjWWbg9JPN6tHpWweYmXy",
      "include_colab_link": true
    },
    "kernelspec": {
      "name": "python3",
      "display_name": "Python 3"
    }
  },
  "cells": [
    {
      "cell_type": "markdown",
      "metadata": {
        "id": "view-in-github",
        "colab_type": "text"
      },
      "source": [
        "<a href=\"https://colab.research.google.com/github/ZazzyDictionary/SPY-experiment/blob/main/portfolios_calculations.ipynb\" target=\"_parent\"><img src=\"https://colab.research.google.com/assets/colab-badge.svg\" alt=\"Open In Colab\"/></a>"
      ]
    },
    {
      "cell_type": "code",
      "metadata": {
        "id": "dVNy9-nSMyvq"
      },
      "source": [
        "# taken from https://www.codingfinance.com/post/2018-04-25-portfolio-beta-py/ \n",
        "import pandas as pd\n",
        "import numpy as np\n",
        "import matplotlib.pyplot as plt\n",
        "import pandas_datareader as web\n",
        "from scipy import stats\n",
        "import seaborn as sns"
      ],
      "execution_count": 93,
      "outputs": []
    },
    {
      "cell_type": "code",
      "metadata": {
        "id": "0ALRrefzM3Rh"
      },
      "source": [
        "tickers = ['TSLA','AAPL','FB','PLTR']\n",
        "wts = [0.25]*4 #weightages on portfolio\n"
      ],
      "execution_count": 85,
      "outputs": []
    },
    {
      "cell_type": "code",
      "metadata": {
        "id": "h5DRLwAwNBn-"
      },
      "source": [
        "price_data = web.get_data_yahoo(tickers,\n",
        "                               start = '2018-01-01',\n",
        "                               end = '2021-02-23')\n",
        "price_data = price_data['Adj Close']"
      ],
      "execution_count": 86,
      "outputs": []
    },
    {
      "cell_type": "code",
      "metadata": {
        "id": "CsPcYWpQNR83"
      },
      "source": [
        "ret_data = price_data.pct_change()[1:]"
      ],
      "execution_count": 87,
      "outputs": []
    },
    {
      "cell_type": "code",
      "metadata": {
        "colab": {
          "base_uri": "https://localhost:8080/"
        },
        "id": "RMx4MpcENT_z",
        "outputId": "fd0cb7d4-43cb-47fa-fa22-bb505441f35b"
      },
      "source": [
        "port_ret = (ret_data * wts).sum(axis = 1)\n",
        "port_ret"
      ],
      "execution_count": 77,
      "outputs": [
        {
          "output_type": "execute_result",
          "data": {
            "text/plain": [
              "Date\n",
              "2020-01-03    0.003655\n",
              "2020-01-06    0.011514\n",
              "2020-01-07    0.009065\n",
              "2020-01-08    0.018857\n",
              "2020-01-09    0.003402\n",
              "                ...   \n",
              "2021-02-17   -0.010995\n",
              "2021-02-18   -0.026985\n",
              "2021-02-19    0.029153\n",
              "2021-02-22   -0.038621\n",
              "2021-02-23   -0.011607\n",
              "Length: 287, dtype: float64"
            ]
          },
          "metadata": {
            "tags": []
          },
          "execution_count": 77
        }
      ]
    },
    {
      "cell_type": "code",
      "metadata": {
        "id": "rZUO6qPMNVEX"
      },
      "source": [
        "benchmark_price = web.get_data_yahoo('SPY',\n",
        "                               start = '2018-01-01',\n",
        "                               end = '2021-02-23')\n",
        "                               \n",
        "benchmark_ret = benchmark_price[\"Adj Close\"].pct_change()[1:]"
      ],
      "execution_count": 88,
      "outputs": []
    },
    {
      "cell_type": "code",
      "metadata": {
        "colab": {
          "base_uri": "https://localhost:8080/"
        },
        "id": "KSQTz7pMOWOC",
        "outputId": "df0608fc-b300-46b4-b27e-95e4b0b1ce74"
      },
      "source": [
        "benchmark_ret"
      ],
      "execution_count": 79,
      "outputs": [
        {
          "output_type": "execute_result",
          "data": {
            "text/plain": [
              "Date\n",
              "2020-01-03   -0.007572\n",
              "2020-01-06    0.003815\n",
              "2020-01-07   -0.002812\n",
              "2020-01-08    0.005330\n",
              "2020-01-09    0.006781\n",
              "                ...   \n",
              "2021-02-17    0.000229\n",
              "2021-02-18   -0.004256\n",
              "2021-02-19   -0.001766\n",
              "2021-02-22   -0.007692\n",
              "2021-02-23    0.001214\n",
              "Name: Adj Close, Length: 287, dtype: float64"
            ]
          },
          "metadata": {
            "tags": []
          },
          "execution_count": 79
        }
      ]
    },
    {
      "cell_type": "code",
      "metadata": {
        "colab": {
          "base_uri": "https://localhost:8080/",
          "height": 349
        },
        "id": "iuSfsVYXNYbe",
        "outputId": "3d418d48-be15-4b94-e6e1-4f672621bc1d"
      },
      "source": [
        "sns.regplot(benchmark_ret.values,port_ret.values)\n",
        "plt.xlabel(\"Benchmark Returns\")\n",
        "plt.ylabel(\"Portfolio Returns\")\n",
        "plt.title(\"Portfolio Returns vs Benchmark Returns\")\n",
        "plt.show()"
      ],
      "execution_count": 89,
      "outputs": [
        {
          "output_type": "stream",
          "text": [
            "/usr/local/lib/python3.7/dist-packages/seaborn/_decorators.py:43: FutureWarning: Pass the following variables as keyword args: x, y. From version 0.12, the only valid positional argument will be `data`, and passing other arguments without an explicit keyword will result in an error or misinterpretation.\n",
            "  FutureWarning\n"
          ],
          "name": "stderr"
        },
        {
          "output_type": "display_data",
          "data": {
            "image/png": "[encoded data removed]",
            "text/plain": [
              "<Figure size 432x288 with 1 Axes>"
            ]
          },
          "metadata": {
            "tags": [],
            "needs_background": "light"
          }
        }
      ]
    },
    {
      "cell_type": "code",
      "metadata": {
        "colab": {
          "base_uri": "https://localhost:8080/"
        },
        "id": "pf8llLeuNZyX",
        "outputId": "4511bd4a-26d8-40e4-e2f1-6ed42fd7992f"
      },
      "source": [
        "(beta, alpha) = stats.linregress(benchmark_ret.values,\n",
        "                port_ret.values)[0:2]\n",
        "                \n",
        "print(\"The portfolio beta is\", round(beta, 4))"
      ],
      "execution_count": 91,
      "outputs": [
        {
          "output_type": "stream",
          "text": [
            "The portfolio beta is 1.3168\n"
          ],
          "name": "stdout"
        }
      ]
    },
    {
      "cell_type": "code",
      "metadata": {
        "colab": {
          "base_uri": "https://localhost:8080/"
        },
        "id": "i3paPamZO1AI",
        "outputId": "5cf5fdb8-f65a-4590-f9a3-6bea15cf0334"
      },
      "source": [
        "print(\"The portfolio alpha is\", round(alpha,5))"
      ],
      "execution_count": 92,
      "outputs": [
        {
          "output_type": "stream",
          "text": [
            "The portfolio alpha is 0.0031\n"
          ],
          "name": "stdout"
        }
      ]
    },
    {
      "cell_type": "code",
      "metadata": {
        "id": "LweVgWwSO2d1"
      },
      "source": [
        ""
      ],
      "execution_count": null,
      "outputs": []
    }
  ]
}